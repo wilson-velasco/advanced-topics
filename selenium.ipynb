{
 "cells": [
  {
   "cell_type": "code",
   "execution_count": 25,
   "id": "771ae839",
   "metadata": {},
   "outputs": [],
   "source": [
    "from selenium import webdriver\n",
    "from selenium.webdriver.chrome.service import Service\n",
    "from selenium.webdriver.common.keys import Keys\n",
    "from selenium.webdriver.common.by import By\n",
    "from selenium.webdriver.common.action_chains import ActionChains\n",
    "from selenium.webdriver.support.ui import Select, WebDriverWait\n",
    "from selenium.webdriver.support import expected_conditions as EC\n",
    "\n",
    "from webdriver_manager.chrome import ChromeDriverManager\n",
    "\n",
    "import time as t\n",
    "import os"
   ]
  },
  {
   "cell_type": "markdown",
   "id": "5a794d83",
   "metadata": {},
   "source": [
    "1) Make a function that will download all of the sql files listed in your database-exercises repo."
   ]
  },
  {
   "cell_type": "code",
   "execution_count": 26,
   "id": "76e404c9",
   "metadata": {},
   "outputs": [],
   "source": [
    "user = os.getenv(\"githubUSER\")\n",
    "pswd = os.getenv(\"githubPSWD\")\n",
    "\n",
    "base_url = \"https://www.github.com/\""
   ]
  },
  {
   "cell_type": "code",
   "execution_count": 27,
   "id": "981066b7",
   "metadata": {},
   "outputs": [],
   "source": [
    "# ChromeDriverManager().install()"
   ]
  },
  {
   "cell_type": "code",
   "execution_count": 119,
   "id": "c2ea8317",
   "metadata": {},
   "outputs": [],
   "source": [
    "# Create webdriver object\n",
    "\n",
    "driver = webdriver.Chrome(service = Service())"
   ]
  },
  {
   "cell_type": "code",
   "execution_count": 120,
   "id": "aa43d68b",
   "metadata": {},
   "outputs": [],
   "source": [
    "# Get to GitHub's login page\n",
    "\n",
    "driver.get(base_url + \"login\")"
   ]
  },
  {
   "cell_type": "code",
   "execution_count": 71,
   "id": "5ced2994",
   "metadata": {},
   "outputs": [],
   "source": [
    "# Input username and password \n",
    "\n",
    "driver.find_element(By.NAME, \"login\").send_keys(user)"
   ]
  },
  {
   "cell_type": "code",
   "execution_count": 72,
   "id": "0f225c32",
   "metadata": {},
   "outputs": [],
   "source": [
    "driver.find_element(By.NAME, \"password\").send_keys(pswd)"
   ]
  },
  {
   "cell_type": "code",
   "execution_count": 73,
   "id": "5a743ed5",
   "metadata": {},
   "outputs": [],
   "source": [
    "# Click Enter\n",
    "\n",
    "driver.find_element(By.NAME, \"commit\").click()"
   ]
  },
  {
   "cell_type": "code",
   "execution_count": 94,
   "id": "8a718019",
   "metadata": {},
   "outputs": [],
   "source": [
    "# Navigate to the database exercises\n",
    "# t.sleep(3)\n",
    "driver.get(base_url+user+\"/database-exercises\")"
   ]
  },
  {
   "cell_type": "code",
   "execution_count": 96,
   "id": "70f728cc",
   "metadata": {},
   "outputs": [],
   "source": [
    "# Get a list of links/paths to individual exercises\n",
    "\n",
    "paths = driver.find_elements(By.XPATH, \"//a[@class='js-navigation-open Link--primary']\")"
   ]
  },
  {
   "cell_type": "code",
   "execution_count": 99,
   "id": "f9ed2eb5",
   "metadata": {},
   "outputs": [
    {
     "ename": "IndexError",
     "evalue": "list index out of range",
     "output_type": "error",
     "traceback": [
      "\u001b[0;31m---------------------------------------------------------------------------\u001b[0m",
      "\u001b[0;31mIndexError\u001b[0m                                Traceback (most recent call last)",
      "\u001b[0;32m/var/folders/0j/dh4q6gzs5xq4fv119n901xmw0000gn/T/ipykernel_50244/3123604284.py\u001b[0m in \u001b[0;36m<module>\u001b[0;34m\u001b[0m\n\u001b[1;32m      6\u001b[0m     \u001b[0mdriver\u001b[0m\u001b[0;34m.\u001b[0m\u001b[0mget\u001b[0m\u001b[0;34m(\u001b[0m\u001b[0mbase_url\u001b[0m\u001b[0;34m+\u001b[0m\u001b[0muser\u001b[0m\u001b[0;34m+\u001b[0m\u001b[0;34m\"/database-exercises\"\u001b[0m\u001b[0;34m)\u001b[0m\u001b[0;34m\u001b[0m\u001b[0;34m\u001b[0m\u001b[0m\n\u001b[1;32m      7\u001b[0m     \u001b[0mpaths\u001b[0m \u001b[0;34m=\u001b[0m \u001b[0mdriver\u001b[0m\u001b[0;34m.\u001b[0m\u001b[0mfind_elements\u001b[0m\u001b[0;34m(\u001b[0m\u001b[0mBy\u001b[0m\u001b[0;34m.\u001b[0m\u001b[0mXPATH\u001b[0m\u001b[0;34m,\u001b[0m \u001b[0;34m\"//a[@class='js-navigation-open Link--primary']\"\u001b[0m\u001b[0;34m)\u001b[0m\u001b[0;34m\u001b[0m\u001b[0;34m\u001b[0m\u001b[0m\n\u001b[0;32m----> 8\u001b[0;31m     \u001b[0mpaths\u001b[0m\u001b[0;34m[\u001b[0m\u001b[0mi\u001b[0m\u001b[0;34m+\u001b[0m\u001b[0;36m1\u001b[0m\u001b[0;34m]\u001b[0m\u001b[0;34m.\u001b[0m\u001b[0mclick\u001b[0m\u001b[0;34m(\u001b[0m\u001b[0;34m)\u001b[0m\u001b[0;34m\u001b[0m\u001b[0;34m\u001b[0m\u001b[0m\n\u001b[0m\u001b[1;32m      9\u001b[0m     \u001b[0mt\u001b[0m\u001b[0;34m.\u001b[0m\u001b[0msleep\u001b[0m\u001b[0;34m(\u001b[0m\u001b[0;36m2\u001b[0m\u001b[0;34m)\u001b[0m\u001b[0;34m\u001b[0m\u001b[0;34m\u001b[0m\u001b[0m\n\u001b[1;32m     10\u001b[0m     \u001b[0mdriver\u001b[0m\u001b[0;34m.\u001b[0m\u001b[0mfind_element\u001b[0m\u001b[0;34m(\u001b[0m\u001b[0mBy\u001b[0m\u001b[0;34m.\u001b[0m\u001b[0mXPATH\u001b[0m\u001b[0;34m,\u001b[0m \u001b[0;34m\"//button[@aria-label='Download raw content']\"\u001b[0m\u001b[0;34m)\u001b[0m\u001b[0;34m.\u001b[0m\u001b[0mclick\u001b[0m\u001b[0;34m(\u001b[0m\u001b[0;34m)\u001b[0m\u001b[0;34m\u001b[0m\u001b[0;34m\u001b[0m\u001b[0m\n",
      "\u001b[0;31mIndexError\u001b[0m: list index out of range"
     ]
    }
   ],
   "source": [
    "# Create range of length of paths, and include .get function within for-loop in order for page to not go stale\n",
    "\n",
    "driver.get(base_url+user+\"/database-exercises\")\n",
    "\n",
    "len_paths = len(driver.find_elements(By.XPATH, \"//a[@class='js-navigation-open Link--primary']\"))\n",
    "\n",
    "for i in range(len_paths):\n",
    "    driver.get(base_url+user+\"/database-exercises\")\n",
    "    paths = driver.find_elements(By.XPATH, \"//a[@class='js-navigation-open Link--primary']\")\n",
    "    if paths[i].text.endswith('sql'):\n",
    "        paths[i].click()\n",
    "        t.sleep(2)\n",
    "        driver.find_element(By.XPATH, \"//button[@aria-label='Download raw content']\").click()\n",
    "        t.sleep(2)\n",
    "        driver.find_element(By.XPATH, \"//a[@sx='[object Object]']\").click()\n",
    "        t.sleep(2)"
   ]
  },
  {
   "cell_type": "code",
   "execution_count": 117,
   "id": "24f9a398",
   "metadata": {},
   "outputs": [],
   "source": [
    "# Create a function for this\n",
    "\n",
    "def download_sql_files():\n",
    "    driver = webdriver.Chrome(service = Service())\n",
    "    driver.get(base_url + \"login\")\n",
    "    driver.find_element(By.NAME, \"login\").send_keys(user)\n",
    "    driver.find_element(By.NAME, \"password\").send_keys(pswd)\n",
    "    driver.find_element(By.NAME, \"commit\").click()\n",
    "    t.sleep(2)\n",
    "    driver.get(base_url+user+\"/database-exercises\")\n",
    "    len_paths = len(driver.find_elements(By.XPATH, \"//a[@class='js-navigation-open Link--primary']\"))\n",
    "    \n",
    "    for i in range(len_paths):\n",
    "        driver.get(base_url+user+\"/database-exercises\")\n",
    "        paths = driver.find_elements(By.XPATH, \"//a[@class='js-navigation-open Link--primary']\")\n",
    "        if paths[i].text.endswith('sql'):\n",
    "            paths[i].click()\n",
    "            WebDriverWait(driver, 50).until(EC.presence_of_element_located((By.XPATH, \"//button[@aria-label='Download raw content']\")))\n",
    "            driver.find_element(By.XPATH, \"//button[@aria-label='Download raw content']\").click()\n",
    "            t.sleep(2)\n",
    "            driver.find_element(By.XPATH, \"//a[@sx='[object Object]']\").click()\n",
    "            t.sleep(2)"
   ]
  },
  {
   "cell_type": "code",
   "execution_count": 118,
   "id": "77f7dc6a",
   "metadata": {
    "scrolled": true
   },
   "outputs": [],
   "source": [
    "download_sql_files()"
   ]
  },
  {
   "cell_type": "markdown",
   "id": "219d05f1",
   "metadata": {},
   "source": [
    "**SUCCESS!**"
   ]
  },
  {
   "cell_type": "markdown",
   "id": "20ff2fb5",
   "metadata": {},
   "source": [
    "2) Pick one more repo to download all ipynb's (only) from and turn that into a second function."
   ]
  },
  {
   "cell_type": "code",
   "execution_count": 121,
   "id": "04910a82",
   "metadata": {},
   "outputs": [],
   "source": [
    "# Essentially copy and pasting the majority, only subbing the repo filepath and ipynb file extension\n",
    "\n",
    "def download_ipynb_files():\n",
    "    driver = webdriver.Chrome(service = Service())\n",
    "    driver.get(base_url + \"login\")\n",
    "    driver.find_element(By.NAME, \"login\").send_keys(user)\n",
    "    driver.find_element(By.NAME, \"password\").send_keys(pswd)\n",
    "    driver.find_element(By.NAME, \"commit\").click()\n",
    "    t.sleep(2)\n",
    "    driver.get(base_url+user+\"/regression-exercises\") #repo link here\n",
    "    len_paths = len(driver.find_elements(By.XPATH, \"//a[@class='js-navigation-open Link--primary']\"))\n",
    "    \n",
    "    for i in range(len_paths):\n",
    "        driver.get(base_url+user+\"/regression-exercises\") #repo link here\n",
    "        paths = driver.find_elements(By.XPATH, \"//a[@class='js-navigation-open Link--primary']\")\n",
    "        if paths[i].text.endswith('ipynb'): #file extension here\n",
    "            paths[i].click()\n",
    "            WebDriverWait(driver, 50).until(EC.presence_of_element_located((By.XPATH, \"//button[@aria-label='Download raw content']\")))\n",
    "            driver.find_element(By.XPATH, \"//button[@aria-label='Download raw content']\").click()\n",
    "            t.sleep(2)\n",
    "            driver.find_element(By.XPATH, \"//a[@sx='[object Object]']\").click()\n",
    "            t.sleep(2)"
   ]
  },
  {
   "cell_type": "code",
   "execution_count": 123,
   "id": "6c97af2d",
   "metadata": {},
   "outputs": [],
   "source": [
    "#Might as well just create a function that just requires the repo filepath and desired file extension\n",
    "\n",
    "def download_files(repo, file_extension):\n",
    "    driver = webdriver.Chrome(service = Service())\n",
    "    driver.get(base_url + \"login\")\n",
    "    driver.find_element(By.NAME, \"login\").send_keys(user)\n",
    "    driver.find_element(By.NAME, \"password\").send_keys(pswd)\n",
    "    driver.find_element(By.NAME, \"commit\").click()\n",
    "    t.sleep(2)\n",
    "    driver.get(base_url+user+\"/\"+repo)\n",
    "    len_paths = len(driver.find_elements(By.XPATH, \"//a[@class='js-navigation-open Link--primary']\"))\n",
    "    \n",
    "    for i in range(len_paths):\n",
    "        driver.get(base_url+user+\"/\"+repo)\n",
    "        paths = driver.find_elements(By.XPATH, \"//a[@class='js-navigation-open Link--primary']\")\n",
    "        if paths[i].text.endswith(file_extension):\n",
    "            paths[i].click()\n",
    "            WebDriverWait(driver, 50).until(EC.presence_of_element_located((By.XPATH, \"//button[@aria-label='Download raw content']\")))\n",
    "            driver.find_element(By.XPATH, \"//button[@aria-label='Download raw content']\").click()\n",
    "            t.sleep(2)\n",
    "            driver.find_element(By.XPATH, \"//a[@sx='[object Object]']\").click()\n",
    "            t.sleep(2)"
   ]
  },
  {
   "cell_type": "code",
   "execution_count": 125,
   "id": "f1d8bedb",
   "metadata": {},
   "outputs": [],
   "source": [
    "download_files('python-exercises', 'py')"
   ]
  },
  {
   "cell_type": "markdown",
   "id": "ded71fae",
   "metadata": {},
   "source": [
    "BONUS: turn these functions into a py script you can run directly in terminal."
   ]
  },
  {
   "cell_type": "markdown",
   "id": "de42b363",
   "metadata": {},
   "source": [
    "Put the below into terminal while in the repo directory"
   ]
  },
  {
   "cell_type": "code",
   "execution_count": null,
   "id": "e496e772",
   "metadata": {},
   "outputs": [],
   "source": [
    "python -c 'import selenium_script; selenium_script.download_sql_files()'"
   ]
  }
 ],
 "metadata": {
  "kernelspec": {
   "display_name": "Python 3 (ipykernel)",
   "language": "python",
   "name": "python3"
  },
  "language_info": {
   "codemirror_mode": {
    "name": "ipython",
    "version": 3
   },
   "file_extension": ".py",
   "mimetype": "text/x-python",
   "name": "python",
   "nbconvert_exporter": "python",
   "pygments_lexer": "ipython3",
   "version": "3.9.13"
  }
 },
 "nbformat": 4,
 "nbformat_minor": 5
}
